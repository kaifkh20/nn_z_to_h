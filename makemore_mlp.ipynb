{
  "nbformat": 4,
  "nbformat_minor": 0,
  "metadata": {
    "colab": {
      "provenance": [],
      "authorship_tag": "ABX9TyMU97jFuRheDcYEc7qTpSrg",
      "include_colab_link": true
    },
    "kernelspec": {
      "name": "python3",
      "display_name": "Python 3"
    },
    "language_info": {
      "name": "python"
    }
  },
  "cells": [
    {
      "cell_type": "markdown",
      "metadata": {
        "id": "view-in-github",
        "colab_type": "text"
      },
      "source": [
        "<a href=\"https://colab.research.google.com/github/kaifkh20/nn_z_to_h/blob/main/makemore_mlp.ipynb\" target=\"_parent\"><img src=\"https://colab.research.google.com/assets/colab-badge.svg\" alt=\"Open In Colab\"/></a>"
      ]
    },
    {
      "cell_type": "code",
      "execution_count": 61,
      "metadata": {
        "colab": {
          "base_uri": "https://localhost:8080/",
          "height": 75
        },
        "id": "idelbGSx4GrS",
        "outputId": "97e796ac-d8da-4a9d-a1e0-3079098f7cd9"
      },
      "outputs": [
        {
          "output_type": "display_data",
          "data": {
            "text/plain": [
              "<IPython.core.display.HTML object>"
            ],
            "text/html": [
              "\n",
              "     <input type=\"file\" id=\"files-e6cc227a-a2d3-4baa-ba33-8e7d00b34f66\" name=\"files[]\" multiple disabled\n",
              "        style=\"border:none\" />\n",
              "     <output id=\"result-e6cc227a-a2d3-4baa-ba33-8e7d00b34f66\">\n",
              "      Upload widget is only available when the cell has been executed in the\n",
              "      current browser session. Please rerun this cell to enable.\n",
              "      </output>\n",
              "      <script>// Copyright 2017 Google LLC\n",
              "//\n",
              "// Licensed under the Apache License, Version 2.0 (the \"License\");\n",
              "// you may not use this file except in compliance with the License.\n",
              "// You may obtain a copy of the License at\n",
              "//\n",
              "//      http://www.apache.org/licenses/LICENSE-2.0\n",
              "//\n",
              "// Unless required by applicable law or agreed to in writing, software\n",
              "// distributed under the License is distributed on an \"AS IS\" BASIS,\n",
              "// WITHOUT WARRANTIES OR CONDITIONS OF ANY KIND, either express or implied.\n",
              "// See the License for the specific language governing permissions and\n",
              "// limitations under the License.\n",
              "\n",
              "/**\n",
              " * @fileoverview Helpers for google.colab Python module.\n",
              " */\n",
              "(function(scope) {\n",
              "function span(text, styleAttributes = {}) {\n",
              "  const element = document.createElement('span');\n",
              "  element.textContent = text;\n",
              "  for (const key of Object.keys(styleAttributes)) {\n",
              "    element.style[key] = styleAttributes[key];\n",
              "  }\n",
              "  return element;\n",
              "}\n",
              "\n",
              "// Max number of bytes which will be uploaded at a time.\n",
              "const MAX_PAYLOAD_SIZE = 100 * 1024;\n",
              "\n",
              "function _uploadFiles(inputId, outputId) {\n",
              "  const steps = uploadFilesStep(inputId, outputId);\n",
              "  const outputElement = document.getElementById(outputId);\n",
              "  // Cache steps on the outputElement to make it available for the next call\n",
              "  // to uploadFilesContinue from Python.\n",
              "  outputElement.steps = steps;\n",
              "\n",
              "  return _uploadFilesContinue(outputId);\n",
              "}\n",
              "\n",
              "// This is roughly an async generator (not supported in the browser yet),\n",
              "// where there are multiple asynchronous steps and the Python side is going\n",
              "// to poll for completion of each step.\n",
              "// This uses a Promise to block the python side on completion of each step,\n",
              "// then passes the result of the previous step as the input to the next step.\n",
              "function _uploadFilesContinue(outputId) {\n",
              "  const outputElement = document.getElementById(outputId);\n",
              "  const steps = outputElement.steps;\n",
              "\n",
              "  const next = steps.next(outputElement.lastPromiseValue);\n",
              "  return Promise.resolve(next.value.promise).then((value) => {\n",
              "    // Cache the last promise value to make it available to the next\n",
              "    // step of the generator.\n",
              "    outputElement.lastPromiseValue = value;\n",
              "    return next.value.response;\n",
              "  });\n",
              "}\n",
              "\n",
              "/**\n",
              " * Generator function which is called between each async step of the upload\n",
              " * process.\n",
              " * @param {string} inputId Element ID of the input file picker element.\n",
              " * @param {string} outputId Element ID of the output display.\n",
              " * @return {!Iterable<!Object>} Iterable of next steps.\n",
              " */\n",
              "function* uploadFilesStep(inputId, outputId) {\n",
              "  const inputElement = document.getElementById(inputId);\n",
              "  inputElement.disabled = false;\n",
              "\n",
              "  const outputElement = document.getElementById(outputId);\n",
              "  outputElement.innerHTML = '';\n",
              "\n",
              "  const pickedPromise = new Promise((resolve) => {\n",
              "    inputElement.addEventListener('change', (e) => {\n",
              "      resolve(e.target.files);\n",
              "    });\n",
              "  });\n",
              "\n",
              "  const cancel = document.createElement('button');\n",
              "  inputElement.parentElement.appendChild(cancel);\n",
              "  cancel.textContent = 'Cancel upload';\n",
              "  const cancelPromise = new Promise((resolve) => {\n",
              "    cancel.onclick = () => {\n",
              "      resolve(null);\n",
              "    };\n",
              "  });\n",
              "\n",
              "  // Wait for the user to pick the files.\n",
              "  const files = yield {\n",
              "    promise: Promise.race([pickedPromise, cancelPromise]),\n",
              "    response: {\n",
              "      action: 'starting',\n",
              "    }\n",
              "  };\n",
              "\n",
              "  cancel.remove();\n",
              "\n",
              "  // Disable the input element since further picks are not allowed.\n",
              "  inputElement.disabled = true;\n",
              "\n",
              "  if (!files) {\n",
              "    return {\n",
              "      response: {\n",
              "        action: 'complete',\n",
              "      }\n",
              "    };\n",
              "  }\n",
              "\n",
              "  for (const file of files) {\n",
              "    const li = document.createElement('li');\n",
              "    li.append(span(file.name, {fontWeight: 'bold'}));\n",
              "    li.append(span(\n",
              "        `(${file.type || 'n/a'}) - ${file.size} bytes, ` +\n",
              "        `last modified: ${\n",
              "            file.lastModifiedDate ? file.lastModifiedDate.toLocaleDateString() :\n",
              "                                    'n/a'} - `));\n",
              "    const percent = span('0% done');\n",
              "    li.appendChild(percent);\n",
              "\n",
              "    outputElement.appendChild(li);\n",
              "\n",
              "    const fileDataPromise = new Promise((resolve) => {\n",
              "      const reader = new FileReader();\n",
              "      reader.onload = (e) => {\n",
              "        resolve(e.target.result);\n",
              "      };\n",
              "      reader.readAsArrayBuffer(file);\n",
              "    });\n",
              "    // Wait for the data to be ready.\n",
              "    let fileData = yield {\n",
              "      promise: fileDataPromise,\n",
              "      response: {\n",
              "        action: 'continue',\n",
              "      }\n",
              "    };\n",
              "\n",
              "    // Use a chunked sending to avoid message size limits. See b/62115660.\n",
              "    let position = 0;\n",
              "    do {\n",
              "      const length = Math.min(fileData.byteLength - position, MAX_PAYLOAD_SIZE);\n",
              "      const chunk = new Uint8Array(fileData, position, length);\n",
              "      position += length;\n",
              "\n",
              "      const base64 = btoa(String.fromCharCode.apply(null, chunk));\n",
              "      yield {\n",
              "        response: {\n",
              "          action: 'append',\n",
              "          file: file.name,\n",
              "          data: base64,\n",
              "        },\n",
              "      };\n",
              "\n",
              "      let percentDone = fileData.byteLength === 0 ?\n",
              "          100 :\n",
              "          Math.round((position / fileData.byteLength) * 100);\n",
              "      percent.textContent = `${percentDone}% done`;\n",
              "\n",
              "    } while (position < fileData.byteLength);\n",
              "  }\n",
              "\n",
              "  // All done.\n",
              "  yield {\n",
              "    response: {\n",
              "      action: 'complete',\n",
              "    }\n",
              "  };\n",
              "}\n",
              "\n",
              "scope.google = scope.google || {};\n",
              "scope.google.colab = scope.google.colab || {};\n",
              "scope.google.colab._files = {\n",
              "  _uploadFiles,\n",
              "  _uploadFilesContinue,\n",
              "};\n",
              "})(self);\n",
              "</script> "
            ]
          },
          "metadata": {}
        },
        {
          "output_type": "stream",
          "name": "stdout",
          "text": [
            "Saving names(1).txt to names(1) (1).txt\n"
          ]
        }
      ],
      "source": [
        "from google.colab import files\n",
        "uploaded = files.upload()"
      ]
    },
    {
      "cell_type": "code",
      "source": [
        "import torch\n",
        "import torch.nn.functional as F\n",
        "words = open(\"names(1).txt\").read().splitlines()"
      ],
      "metadata": {
        "id": "pegAzqnB5ZJY"
      },
      "execution_count": 62,
      "outputs": []
    },
    {
      "cell_type": "code",
      "source": [
        "#character mapping\n",
        "chars = sorted(list(set(''.join(words))))\n",
        "stoi = {s:i+1 for i,s in enumerate(chars)}\n",
        "stoi['.'] = 0\n",
        "itos = {i:s for s,i in stoi.items()}"
      ],
      "metadata": {
        "id": "CbNJVfoJ5nxy"
      },
      "execution_count": 63,
      "outputs": []
    },
    {
      "cell_type": "code",
      "source": [
        "#building the dataset\n",
        "\n",
        "block_size = 3 #context length\n",
        "X,Y = [],[]\n",
        "\n",
        "for w in words:\n",
        "  # print(w)\n",
        "  context = [0] * block_size #pad it with ...\n",
        "  for ch in w + '.':\n",
        "    ix = stoi[ch]\n",
        "    X.append(context)\n",
        "    Y.append(ix)\n",
        "    # print(''.join(itos[i] for i in context), '--->', itos[ix])\n",
        "    context = context[1:] + [ix]\n",
        "X = torch.tensor(X)\n",
        "Y = torch.tensor(Y)"
      ],
      "metadata": {
        "id": "_OI2XL3R6GZU"
      },
      "execution_count": 64,
      "outputs": []
    },
    {
      "cell_type": "code",
      "source": [
        "#build training, dev and test dataset\n",
        "\n",
        "def build_dataset(words):\n",
        "  block_size = 3 #context length\n",
        "  X,Y = [],[]\n",
        "\n",
        "  for w in words:\n",
        "    # print(w)\n",
        "    context = [0] * block_size #pad it with ...\n",
        "    for ch in w + '.':\n",
        "      ix = stoi[ch]\n",
        "      X.append(context)\n",
        "      Y.append(ix)\n",
        "      # print(''.join(itos[i] for i in context), '--->', itos[ix])\n",
        "      context = context[1:] + [ix]\n",
        "  X = torch.tensor(X)\n",
        "  Y = torch.tensor(Y)\n",
        "\n",
        "  return X,Y\n",
        "\n",
        "import random\n",
        "random.seed(42)\n",
        "random.shuffle(words)\n",
        "n1 = int(0.8*len(words))\n",
        "n2 = int(0.9*len(words))\n",
        "\n",
        "Xtr, Ytr = build_dataset(words[:n1])\n",
        "Xdev, Ydev = build_dataset(words[n1:n2])\n",
        "Xte, Yte = build_dataset(words[n2:])\n",
        ""
      ],
      "metadata": {
        "id": "iVDff5XYJ-Ef"
      },
      "execution_count": 66,
      "outputs": []
    },
    {
      "cell_type": "markdown",
      "source": [],
      "metadata": {
        "id": "W4IQydimXmD5"
      }
    },
    {
      "cell_type": "markdown",
      "source": [
        "\n"
      ],
      "metadata": {
        "id": "VNrY-nBWXoEA"
      }
    },
    {
      "cell_type": "markdown",
      "source": [
        "# Example word: \"emma\"\n",
        "# X shape: [32,3] means we have 32 training examples, each with 3 letters of context\n",
        "# Each number in X represents a letter (0-26 for a-z)\n",
        "\n",
        "# One row in X might look like:\n",
        "# [4, 12, 12]  # representing \"emm\" (context to predict \"a\")\n",
        "\n",
        "\n",
        "C = torch.randn(27, 2)  # 27 letters (a-z + .), each gets 2 numbers\n",
        "# C gives each letter a unique \"coordinate\" in 2D space\n",
        "# Example:\n",
        "# 'e' (index 4) might get coordinate [-0.1, 0.5]\n",
        "# 'm' (index 12) might get coordinate [0.3, -0.2]\n",
        "\n",
        "# If X has one row [4, 12, 12] (\"emm\")\n",
        "# emb will convert it to:\n",
        "# [[-0.1, 0.5],   # coordinates for 'e'\n",
        "#  [0.3, -0.2],   # coordinates for 'm'\n",
        "#  [0.3, -0.2]]   # coordinates for 'm'"
      ],
      "metadata": {
        "id": "C_ZgkOXjY6GC"
      }
    },
    {
      "cell_type": "code",
      "source": [
        "C = torch.randn((27,2))\n",
        "emb = C[X]\n",
        "#emb[:,0] # so suppopse we have three input layer as seen in paper then this for the first layer and for first word"
      ],
      "metadata": {
        "id": "YrbA187r-Lf5"
      },
      "execution_count": 46,
      "outputs": []
    },
    {
      "cell_type": "code",
      "source": [
        "W1 = torch.randn(6,100) # we get the 6 from emb[32,3,2] = 6\n",
        "b1 = torch.randn(100)"
      ],
      "metadata": {
        "id": "T8lc5PVFCHjJ"
      },
      "execution_count": 47,
      "outputs": []
    },
    {
      "cell_type": "markdown",
      "source": [
        "we do now torch.cat operation which is means that the layer is fed with all three words parameters at once into all the neurons\n",
        "\n",
        "a context have total of 3 letters each having 2 position\n",
        "which in total having 6 position of a context\n",
        "\n",
        "[0,\n",
        " 1,\n",
        " 2]  --> [0,1,2,3,4,5...100]"
      ],
      "metadata": {
        "id": "jl1kpqU8bbL6"
      }
    },
    {
      "cell_type": "code",
      "source": [
        "#this is one way but ineffecient -> torch.cat([emb[:,0,:],emb[:,1,:],emb[:,2,:]],1).shape"
      ],
      "metadata": {
        "id": "uujy4QIgbZ9V"
      },
      "execution_count": 48,
      "outputs": []
    },
    {
      "cell_type": "markdown",
      "source": [
        "why 6 since we are predicting the next token based on three sized block context with each token have two dimension.\n"
      ],
      "metadata": {
        "id": "2gO8B0Kdlk3y"
      }
    },
    {
      "cell_type": "code",
      "source": [
        "h = torch.tanh(emb.view(-1,6) @ W1 + b1) #(-1,6) means pytorch will figure what should be its value\n",
        "h.shape"
      ],
      "metadata": {
        "colab": {
          "base_uri": "https://localhost:8080/"
        },
        "id": "_J3NqAssli_w",
        "outputId": "f57faf46-72a1-4804-d461-5e09113283d8"
      },
      "execution_count": 49,
      "outputs": [
        {
          "output_type": "execute_result",
          "data": {
            "text/plain": [
              "torch.Size([228146, 100])"
            ]
          },
          "metadata": {},
          "execution_count": 49
        }
      ]
    },
    {
      "cell_type": "markdown",
      "source": [
        "Last layer (soft max classifications)"
      ],
      "metadata": {
        "id": "zcVOw2FIos1u"
      }
    },
    {
      "cell_type": "code",
      "source": [
        "W2 = torch.randn(100,27)\n",
        "b2 = torch.randn(27)\n",
        "\n",
        "parameters = [C,W1,b1,W2,b2]\n",
        "\n",
        "\n",
        "logits = h @ W2 + b2\n",
        "#this is for education purpose\n",
        "\n",
        "# counts = logits.exp()\n",
        "# probs = counts / counts.sum(1,keepdims=True)\n",
        "# loss = -probs[torch.arange(32),Y].log().mean() #negative likeli-hood\n",
        "\n",
        "#actually we should do it like this\n",
        "\n",
        "loss = F.cross_entropy(logits,Y)\n"
      ],
      "metadata": {
        "id": "lSkBIXnGoOp8"
      },
      "execution_count": 50,
      "outputs": []
    },
    {
      "cell_type": "code",
      "source": [
        "for p in parameters:\n",
        "  p.requires_grad = True"
      ],
      "metadata": {
        "id": "BoxWSsehsxN4"
      },
      "execution_count": 67,
      "outputs": []
    },
    {
      "cell_type": "markdown",
      "source": [
        "referring above for every details now we tidy all the things up"
      ],
      "metadata": {
        "id": "-nTBlwll_7ui"
      }
    },
    {
      "cell_type": "code",
      "source": [
        "g = torch.Generator().manual_seed(2147483647)\n",
        "C = torch.randn([27,2],generator=g)\n",
        "W1 = torch.randn([6,300],generator=g)\n",
        "b1 = torch.randn(300,generator=g)\n",
        "W2 = torch.randn([300,27],generator=g)\n",
        "b2 = torch.randn(27,generator=g)\n",
        "parameters = [C,W1,b1,W2,b2]\n",
        "\n",
        "for p in parameters:\n",
        "  p.requires_grad = True"
      ],
      "metadata": {
        "id": "MEppK4SttAJR"
      },
      "execution_count": 77,
      "outputs": []
    },
    {
      "cell_type": "code",
      "source": [
        "#this is to find a good learning rate\n",
        "lrs = torch.linspace(-3,0,1000)\n",
        "lre = 10**lrs #10^-3 and so on"
      ],
      "metadata": {
        "id": "m4tmpOouF3XH"
      },
      "execution_count": 78,
      "outputs": []
    },
    {
      "cell_type": "code",
      "source": [
        "lri = []\n",
        "lossi = []\n",
        "for i in range (10000):\n",
        "\n",
        "  #minibatch construct\n",
        "  ix = torch.randint(0,Xtr.shape[0],(32,))\n",
        "\n",
        "  #forward pass\n",
        "  emb = C[Xtr[ix]]\n",
        "  h = torch.tanh(emb.view(-1,6) @ W1 + b1)\n",
        "  logits = h @ W2 + b2\n",
        "  loss = F.cross_entropy(logits,Ytr[ix])\n",
        "  # print(loss.item())\n",
        "  #backward pass\n",
        "  for p in parameters:\n",
        "    p.grad = None\n",
        "  loss.backward()\n",
        "  #update\n",
        "  # lr = lrs[i]\n",
        "  lr = 0.1\n",
        "  for p in parameters:\n",
        "    p.data += -lr * p.grad\n",
        "\n",
        "    #track status\n",
        "    #lri.append(lre[i])\n",
        "    #lossi.append(loss.item())\n",
        "print(loss.item())"
      ],
      "metadata": {
        "colab": {
          "base_uri": "https://localhost:8080/"
        },
        "id": "ATvyJZoiANOD",
        "outputId": "f00deb8a-b0a8-483a-c236-d7d52082db3f"
      },
      "execution_count": 79,
      "outputs": [
        {
          "output_type": "stream",
          "name": "stdout",
          "text": [
            "2.8747668266296387\n"
          ]
        }
      ]
    },
    {
      "cell_type": "markdown",
      "source": [
        "search about learning rate decay"
      ],
      "metadata": {
        "id": "FUZDS5RvHys3"
      }
    },
    {
      "cell_type": "code",
      "source": [
        "emb = C[Xtr]\n",
        "h = torch.tanh(emb.view(-1,6) @ W1 + b1)\n",
        "logits = h @ W2 + b2\n",
        "loss = F.cross_entropy(logits,Ytr)\n",
        "\n",
        "print(loss.item())"
      ],
      "metadata": {
        "colab": {
          "base_uri": "https://localhost:8080/"
        },
        "id": "oUgM6A7yNSAC",
        "outputId": "9f5fecb6-797c-4bbe-ec01-dc6901f3c712"
      },
      "execution_count": 80,
      "outputs": [
        {
          "output_type": "stream",
          "name": "stdout",
          "text": [
            "2.650872230529785\n"
          ]
        }
      ]
    },
    {
      "cell_type": "code",
      "source": [
        "emb = C[Xdev]\n",
        "h = torch.tanh(emb.view(-1,6) @ W1 + b1)\n",
        "logits = h @ W2 + b2\n",
        "loss = F.cross_entropy(logits,Ydev)\n",
        "\n",
        "print(loss.item())"
      ],
      "metadata": {
        "colab": {
          "base_uri": "https://localhost:8080/"
        },
        "id": "iOpNKgPsMqRe",
        "outputId": "713f2ded-17e0-4cab-b82e-a888b815855b"
      },
      "execution_count": 81,
      "outputs": [
        {
          "output_type": "stream",
          "name": "stdout",
          "text": [
            "2.646641731262207\n"
          ]
        }
      ]
    },
    {
      "cell_type": "code",
      "source": [
        "#training split, dev/validation split , test split\n",
        "# 80% , 10% , 10%"
      ],
      "metadata": {
        "id": "KD_bEfaOGNG9"
      },
      "execution_count": 56,
      "outputs": []
    },
    {
      "cell_type": "markdown",
      "source": [
        "Watch the video after 1:00 to understand on how to improve the nn"
      ],
      "metadata": {
        "id": "IxWYny6mONNV"
      }
    },
    {
      "cell_type": "code",
      "source": [
        "#sample from model\n",
        "\n",
        "g = torch.Generator().manual_seed(2147483647+30)\n",
        "for _ in range(20):\n",
        "    out = []\n",
        "    context = [0] * block_size # initialize with all ...\n",
        "    while True:\n",
        "        emb = torch.tensor([context]) # (1,block_size,d)\n",
        "        h = torch.tanh(emb.view(1, -1) @ W1 + b1)\n",
        "        logits = h @ W2 + b2\n",
        "        probs = torch.softmax(logits, dim=-1)\n",
        "        ix = torch.multinomial(probs, num_samples=1, generator=g).item()\n",
        "        context = context[1:] + [ix]\n",
        "        out.append(ix)\n",
        "        if ix == 0:\n",
        "            break\n",
        "    print(''.join(itos[i] for i in out))"
      ],
      "metadata": {
        "id": "nD1KP5O9Agdp"
      },
      "execution_count": null,
      "outputs": []
    },
    {
      "cell_type": "code",
      "source": [],
      "metadata": {
        "id": "Ve4YqvD1QvqM"
      },
      "execution_count": null,
      "outputs": []
    }
  ]
}