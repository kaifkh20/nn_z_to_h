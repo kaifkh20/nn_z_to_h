{
  "nbformat": 4,
  "nbformat_minor": 0,
  "metadata": {
    "colab": {
      "provenance": [],
      "authorship_tag": "ABX9TyMyPSDTMz1oJcbfkASEc6Gz",
      "include_colab_link": true
    },
    "kernelspec": {
      "name": "python3",
      "display_name": "Python 3"
    },
    "language_info": {
      "name": "python"
    }
  },
  "cells": [
    {
      "cell_type": "markdown",
      "metadata": {
        "id": "view-in-github",
        "colab_type": "text"
      },
      "source": [
        "<a href=\"https://colab.research.google.com/github/kaifkh20/nn_z_to_h/blob/main/nano_gpt.ipynb\" target=\"_parent\"><img src=\"https://colab.research.google.com/assets/colab-badge.svg\" alt=\"Open In Colab\"/></a>"
      ]
    },
    {
      "cell_type": "code",
      "execution_count": 1,
      "metadata": {
        "colab": {
          "base_uri": "https://localhost:8080/"
        },
        "id": "ssXlouAgLawn",
        "outputId": "bf5ea259-409e-460e-84f5-8cd0bdf76861"
      },
      "outputs": [
        {
          "output_type": "stream",
          "name": "stdout",
          "text": [
            "--2025-05-06 08:52:39--  https://raw.githubusercontent.com/karpathy/char-rnn/refs/heads/master/data/tinyshakespeare/input.txt\n",
            "Resolving raw.githubusercontent.com (raw.githubusercontent.com)... 185.199.108.133, 185.199.109.133, 185.199.110.133, ...\n",
            "Connecting to raw.githubusercontent.com (raw.githubusercontent.com)|185.199.108.133|:443... connected.\n",
            "HTTP request sent, awaiting response... 200 OK\n",
            "Length: 1115394 (1.1M) [text/plain]\n",
            "Saving to: ‘input.txt’\n",
            "\n",
            "input.txt           100%[===================>]   1.06M  --.-KB/s    in 0.06s   \n",
            "\n",
            "2025-05-06 08:52:39 (18.2 MB/s) - ‘input.txt’ saved [1115394/1115394]\n",
            "\n"
          ]
        }
      ],
      "source": [
        "!wget https://raw.githubusercontent.com/karpathy/char-rnn/refs/heads/master/data/tinyshakespeare/input.txt"
      ]
    },
    {
      "cell_type": "code",
      "source": [
        "with open('input.txt', 'r', encoding='utf-8') as f:\n",
        "    text = f.read()"
      ],
      "metadata": {
        "id": "3QTfsRh4Mj47"
      },
      "execution_count": 2,
      "outputs": []
    },
    {
      "cell_type": "code",
      "source": [
        "print(\"length of dataset\",len(text))"
      ],
      "metadata": {
        "colab": {
          "base_uri": "https://localhost:8080/"
        },
        "id": "LZExEVegMo2M",
        "outputId": "e73079cd-c9d7-4114-e8cc-67082ebc20f7"
      },
      "execution_count": 3,
      "outputs": [
        {
          "output_type": "stream",
          "name": "stdout",
          "text": [
            "length of dataset 1115394\n"
          ]
        }
      ]
    },
    {
      "cell_type": "code",
      "source": [
        "print(text[:1000])"
      ],
      "metadata": {
        "colab": {
          "base_uri": "https://localhost:8080/"
        },
        "id": "vvJrdGDcMsWu",
        "outputId": "c05fef37-126f-4c1b-9681-2639c47c711f"
      },
      "execution_count": 4,
      "outputs": [
        {
          "output_type": "stream",
          "name": "stdout",
          "text": [
            "First Citizen:\n",
            "Before we proceed any further, hear me speak.\n",
            "\n",
            "All:\n",
            "Speak, speak.\n",
            "\n",
            "First Citizen:\n",
            "You are all resolved rather to die than to famish?\n",
            "\n",
            "All:\n",
            "Resolved. resolved.\n",
            "\n",
            "First Citizen:\n",
            "First, you know Caius Marcius is chief enemy to the people.\n",
            "\n",
            "All:\n",
            "We know't, we know't.\n",
            "\n",
            "First Citizen:\n",
            "Let us kill him, and we'll have corn at our own price.\n",
            "Is't a verdict?\n",
            "\n",
            "All:\n",
            "No more talking on't; let it be done: away, away!\n",
            "\n",
            "Second Citizen:\n",
            "One word, good citizens.\n",
            "\n",
            "First Citizen:\n",
            "We are accounted poor citizens, the patricians good.\n",
            "What authority surfeits on would relieve us: if they\n",
            "would yield us but the superfluity, while it were\n",
            "wholesome, we might guess they relieved us humanely;\n",
            "but they think we are too dear: the leanness that\n",
            "afflicts us, the object of our misery, is as an\n",
            "inventory to particularise their abundance; our\n",
            "sufferance is a gain to them Let us revenge this with\n",
            "our pikes, ere we become rakes: for the gods know I\n",
            "speak this in hunger for bread, not in thirst for revenge.\n",
            "\n",
            "\n"
          ]
        }
      ]
    },
    {
      "cell_type": "code",
      "source": [
        "chars = sorted(list(set(text)))\n",
        "vocab_size = len(chars)\n",
        "print(''.join(chars))\n",
        "print(vocab_size)"
      ],
      "metadata": {
        "id": "_y3IzeSwMzTD",
        "colab": {
          "base_uri": "https://localhost:8080/"
        },
        "outputId": "19a49db3-4283-4491-dd4e-e3387c95e8fc"
      },
      "execution_count": 5,
      "outputs": [
        {
          "output_type": "stream",
          "name": "stdout",
          "text": [
            "\n",
            " !$&',-.3:;?ABCDEFGHIJKLMNOPQRSTUVWXYZabcdefghijklmnopqrstuvwxyz\n",
            "65\n"
          ]
        }
      ]
    },
    {
      "cell_type": "code",
      "source": [
        "stoi = {ch:i for i,ch in enumerate(chars)}\n",
        "itos = {i:ch for i,ch in enumerate(chars)}\n",
        "encode = lambda s: [stoi[c] for c in s]\n",
        "decode = lambda l: ''.join([itos[i] for i in l])\n",
        "\n",
        "print(encode(\"hii there\"))\n",
        "print(decode(encode(\"hii there\")))"
      ],
      "metadata": {
        "colab": {
          "base_uri": "https://localhost:8080/"
        },
        "id": "aK6Tw1Q8PDxv",
        "outputId": "728c693a-4583-4ef5-ed88-144e8099a542"
      },
      "execution_count": 6,
      "outputs": [
        {
          "output_type": "stream",
          "name": "stdout",
          "text": [
            "[46, 47, 47, 1, 58, 46, 43, 56, 43]\n",
            "hii there\n"
          ]
        }
      ]
    },
    {
      "cell_type": "code",
      "source": [
        "#store the data set encoded in a tensor\n",
        "import torch\n",
        "data = torch.tensor(encode(text),dtype = torch.long)\n",
        "print(data.shape,data.dtype)\n",
        "print(data[:1000])"
      ],
      "metadata": {
        "colab": {
          "base_uri": "https://localhost:8080/"
        },
        "collapsed": true,
        "id": "ZTC13cJwP1iP",
        "outputId": "5f5e01ef-227c-4ad5-a508-8dce12033521"
      },
      "execution_count": 7,
      "outputs": [
        {
          "output_type": "stream",
          "name": "stdout",
          "text": [
            "torch.Size([1115394]) torch.int64\n",
            "tensor([18, 47, 56, 57, 58,  1, 15, 47, 58, 47, 64, 43, 52, 10,  0, 14, 43, 44,\n",
            "        53, 56, 43,  1, 61, 43,  1, 54, 56, 53, 41, 43, 43, 42,  1, 39, 52, 63,\n",
            "         1, 44, 59, 56, 58, 46, 43, 56,  6,  1, 46, 43, 39, 56,  1, 51, 43,  1,\n",
            "        57, 54, 43, 39, 49,  8,  0,  0, 13, 50, 50, 10,  0, 31, 54, 43, 39, 49,\n",
            "         6,  1, 57, 54, 43, 39, 49,  8,  0,  0, 18, 47, 56, 57, 58,  1, 15, 47,\n",
            "        58, 47, 64, 43, 52, 10,  0, 37, 53, 59,  1, 39, 56, 43,  1, 39, 50, 50,\n",
            "         1, 56, 43, 57, 53, 50, 60, 43, 42,  1, 56, 39, 58, 46, 43, 56,  1, 58,\n",
            "        53,  1, 42, 47, 43,  1, 58, 46, 39, 52,  1, 58, 53,  1, 44, 39, 51, 47,\n",
            "        57, 46, 12,  0,  0, 13, 50, 50, 10,  0, 30, 43, 57, 53, 50, 60, 43, 42,\n",
            "         8,  1, 56, 43, 57, 53, 50, 60, 43, 42,  8,  0,  0, 18, 47, 56, 57, 58,\n",
            "         1, 15, 47, 58, 47, 64, 43, 52, 10,  0, 18, 47, 56, 57, 58,  6,  1, 63,\n",
            "        53, 59,  1, 49, 52, 53, 61,  1, 15, 39, 47, 59, 57,  1, 25, 39, 56, 41,\n",
            "        47, 59, 57,  1, 47, 57,  1, 41, 46, 47, 43, 44,  1, 43, 52, 43, 51, 63,\n",
            "         1, 58, 53,  1, 58, 46, 43,  1, 54, 43, 53, 54, 50, 43,  8,  0,  0, 13,\n",
            "        50, 50, 10,  0, 35, 43,  1, 49, 52, 53, 61,  5, 58,  6,  1, 61, 43,  1,\n",
            "        49, 52, 53, 61,  5, 58,  8,  0,  0, 18, 47, 56, 57, 58,  1, 15, 47, 58,\n",
            "        47, 64, 43, 52, 10,  0, 24, 43, 58,  1, 59, 57,  1, 49, 47, 50, 50,  1,\n",
            "        46, 47, 51,  6,  1, 39, 52, 42,  1, 61, 43,  5, 50, 50,  1, 46, 39, 60,\n",
            "        43,  1, 41, 53, 56, 52,  1, 39, 58,  1, 53, 59, 56,  1, 53, 61, 52,  1,\n",
            "        54, 56, 47, 41, 43,  8,  0, 21, 57,  5, 58,  1, 39,  1, 60, 43, 56, 42,\n",
            "        47, 41, 58, 12,  0,  0, 13, 50, 50, 10,  0, 26, 53,  1, 51, 53, 56, 43,\n",
            "         1, 58, 39, 50, 49, 47, 52, 45,  1, 53, 52,  5, 58, 11,  1, 50, 43, 58,\n",
            "         1, 47, 58,  1, 40, 43,  1, 42, 53, 52, 43, 10,  1, 39, 61, 39, 63,  6,\n",
            "         1, 39, 61, 39, 63,  2,  0,  0, 31, 43, 41, 53, 52, 42,  1, 15, 47, 58,\n",
            "        47, 64, 43, 52, 10,  0, 27, 52, 43,  1, 61, 53, 56, 42,  6,  1, 45, 53,\n",
            "        53, 42,  1, 41, 47, 58, 47, 64, 43, 52, 57,  8,  0,  0, 18, 47, 56, 57,\n",
            "        58,  1, 15, 47, 58, 47, 64, 43, 52, 10,  0, 35, 43,  1, 39, 56, 43,  1,\n",
            "        39, 41, 41, 53, 59, 52, 58, 43, 42,  1, 54, 53, 53, 56,  1, 41, 47, 58,\n",
            "        47, 64, 43, 52, 57,  6,  1, 58, 46, 43,  1, 54, 39, 58, 56, 47, 41, 47,\n",
            "        39, 52, 57,  1, 45, 53, 53, 42,  8,  0, 35, 46, 39, 58,  1, 39, 59, 58,\n",
            "        46, 53, 56, 47, 58, 63,  1, 57, 59, 56, 44, 43, 47, 58, 57,  1, 53, 52,\n",
            "         1, 61, 53, 59, 50, 42,  1, 56, 43, 50, 47, 43, 60, 43,  1, 59, 57, 10,\n",
            "         1, 47, 44,  1, 58, 46, 43, 63,  0, 61, 53, 59, 50, 42,  1, 63, 47, 43,\n",
            "        50, 42,  1, 59, 57,  1, 40, 59, 58,  1, 58, 46, 43,  1, 57, 59, 54, 43,\n",
            "        56, 44, 50, 59, 47, 58, 63,  6,  1, 61, 46, 47, 50, 43,  1, 47, 58,  1,\n",
            "        61, 43, 56, 43,  0, 61, 46, 53, 50, 43, 57, 53, 51, 43,  6,  1, 61, 43,\n",
            "         1, 51, 47, 45, 46, 58,  1, 45, 59, 43, 57, 57,  1, 58, 46, 43, 63,  1,\n",
            "        56, 43, 50, 47, 43, 60, 43, 42,  1, 59, 57,  1, 46, 59, 51, 39, 52, 43,\n",
            "        50, 63, 11,  0, 40, 59, 58,  1, 58, 46, 43, 63,  1, 58, 46, 47, 52, 49,\n",
            "         1, 61, 43,  1, 39, 56, 43,  1, 58, 53, 53,  1, 42, 43, 39, 56, 10,  1,\n",
            "        58, 46, 43,  1, 50, 43, 39, 52, 52, 43, 57, 57,  1, 58, 46, 39, 58,  0,\n",
            "        39, 44, 44, 50, 47, 41, 58, 57,  1, 59, 57,  6,  1, 58, 46, 43,  1, 53,\n",
            "        40, 48, 43, 41, 58,  1, 53, 44,  1, 53, 59, 56,  1, 51, 47, 57, 43, 56,\n",
            "        63,  6,  1, 47, 57,  1, 39, 57,  1, 39, 52,  0, 47, 52, 60, 43, 52, 58,\n",
            "        53, 56, 63,  1, 58, 53,  1, 54, 39, 56, 58, 47, 41, 59, 50, 39, 56, 47,\n",
            "        57, 43,  1, 58, 46, 43, 47, 56,  1, 39, 40, 59, 52, 42, 39, 52, 41, 43,\n",
            "        11,  1, 53, 59, 56,  0, 57, 59, 44, 44, 43, 56, 39, 52, 41, 43,  1, 47,\n",
            "        57,  1, 39,  1, 45, 39, 47, 52,  1, 58, 53,  1, 58, 46, 43, 51,  1, 24,\n",
            "        43, 58,  1, 59, 57,  1, 56, 43, 60, 43, 52, 45, 43,  1, 58, 46, 47, 57,\n",
            "         1, 61, 47, 58, 46,  0, 53, 59, 56,  1, 54, 47, 49, 43, 57,  6,  1, 43,\n",
            "        56, 43,  1, 61, 43,  1, 40, 43, 41, 53, 51, 43,  1, 56, 39, 49, 43, 57,\n",
            "        10,  1, 44, 53, 56,  1, 58, 46, 43,  1, 45, 53, 42, 57,  1, 49, 52, 53,\n",
            "        61,  1, 21,  0, 57, 54, 43, 39, 49,  1, 58, 46, 47, 57,  1, 47, 52,  1,\n",
            "        46, 59, 52, 45, 43, 56,  1, 44, 53, 56,  1, 40, 56, 43, 39, 42,  6,  1,\n",
            "        52, 53, 58,  1, 47, 52,  1, 58, 46, 47, 56, 57, 58,  1, 44, 53, 56,  1,\n",
            "        56, 43, 60, 43, 52, 45, 43,  8,  0,  0])\n"
          ]
        }
      ]
    },
    {
      "cell_type": "code",
      "source": [
        "#split 90-train 10-val\n",
        "n = int(0.9*len(data))\n",
        "train_data = data[:n]\n",
        "val_data = data[n:]"
      ],
      "metadata": {
        "id": "3hqpTS9_RI9z"
      },
      "execution_count": 8,
      "outputs": []
    },
    {
      "cell_type": "code",
      "source": [
        "#sampling data of each block_size from random batch\n",
        "\n",
        "@torch.no_grad()\n",
        "def estimate_loss():\n",
        "  out = {}\n",
        "  m.eval()\n",
        "  for split in ['train','val']:\n",
        "    losses = torch.zeros(block_size)\n",
        "    for k in range(block_size):\n",
        "      X,Y = get_batch(split)\n",
        "      logits,loss = m(X,Y)\n",
        "      losses[k] = loss.item()\n",
        "    out[split] = losses.mean()\n",
        "  m.train()\n",
        "  return out"
      ],
      "metadata": {
        "id": "CdS777Zh57Bh"
      },
      "execution_count": 9,
      "outputs": []
    },
    {
      "cell_type": "code",
      "source": [
        "block_size = 8\n",
        "train_data[:block_size+1].data\n",
        "# decode(train_data[:block_size+1])"
      ],
      "metadata": {
        "colab": {
          "base_uri": "https://localhost:8080/"
        },
        "id": "U7jT7OjwSFsS",
        "outputId": "9eae4030-7f7f-452a-8f08-836b7b82fd56"
      },
      "execution_count": 10,
      "outputs": [
        {
          "output_type": "execute_result",
          "data": {
            "text/plain": [
              "tensor([18, 47, 56, 57, 58,  1, 15, 47, 58])"
            ]
          },
          "metadata": {},
          "execution_count": 10
        }
      ]
    },
    {
      "cell_type": "code",
      "source": [
        "x = train_data[:block_size]\n",
        "y = train_data[1:block_size+1]\n",
        "for t in range(block_size):\n",
        "    context = x[:t+1]\n",
        "    target = y[t]\n",
        "    print(f\"when input is {context} the target: {target}\")"
      ],
      "metadata": {
        "colab": {
          "base_uri": "https://localhost:8080/"
        },
        "id": "o6dNboeZSkCe",
        "outputId": "0b02da6e-b5dc-4616-a68f-23758efc11a1"
      },
      "execution_count": 11,
      "outputs": [
        {
          "output_type": "stream",
          "name": "stdout",
          "text": [
            "when input is tensor([18]) the target: 47\n",
            "when input is tensor([18, 47]) the target: 56\n",
            "when input is tensor([18, 47, 56]) the target: 57\n",
            "when input is tensor([18, 47, 56, 57]) the target: 58\n",
            "when input is tensor([18, 47, 56, 57, 58]) the target: 1\n",
            "when input is tensor([18, 47, 56, 57, 58,  1]) the target: 15\n",
            "when input is tensor([18, 47, 56, 57, 58,  1, 15]) the target: 47\n",
            "when input is tensor([18, 47, 56, 57, 58,  1, 15, 47]) the target: 58\n"
          ]
        }
      ]
    },
    {
      "cell_type": "markdown",
      "source": [
        "This trains in batches instead of training one by one of block size.\n",
        "\n",
        "Instead of training like this:\n",
        "\n",
        "[seq1] → loss → update weights  \n",
        "[seq2] → loss → update weights  \n",
        "[seq3] → ...\n",
        "\n",
        "You train like this:\n",
        "\n",
        "[seq1, seq2, seq3, seq4] → compute all losses together → average → update weights once\n"
      ],
      "metadata": {
        "id": "iCwVNAvBYtzH"
      }
    },
    {
      "cell_type": "code",
      "source": [
        "torch.manual_seed(1337)\n",
        "batch_size = 4\n",
        "block_size = 8\n",
        "\n",
        "def get_batch(split):\n",
        "  #generate a small batch of input x and target y\n",
        "  ix = torch.randint(len(data)-block_size,(batch_size,)) #pick starting point for each from ex if 1000->data then pick a rand no till 992\n",
        "  x = torch.stack([data[i:i+block_size]for i in ix]) #for each index i, take a slice of 8 tokens starting at position i from data.\n",
        "  y = torch.stack([data[i+1:i+block_size+1]for i in ix]) # For the same indices, take the next 8 tokens, shifted by 1:\n",
        "  return x,y\n",
        "\n",
        "xb,yb = get_batch('train')\n",
        "print('inputs:')\n",
        "print(xb.shape)\n",
        "print(xb)\n",
        "print('targets:')\n",
        "print(yb.shape)\n",
        "print(yb)\n",
        "\n",
        "print(\"=====\")\n",
        "\n",
        "for b in range(batch_size): #batch dim\n",
        "  for t in range(block_size): #block size\n",
        "    context = xb[b,:t+1]\n",
        "    target = yb[b,t]\n",
        "    print(f\"when input is {context.tolist()} the target is {target}\")"
      ],
      "metadata": {
        "colab": {
          "base_uri": "https://localhost:8080/"
        },
        "collapsed": true,
        "id": "gqqpV7DDWeDC",
        "outputId": "bcc6cc59-e36c-41c0-b7da-052e34f42b83"
      },
      "execution_count": 12,
      "outputs": [
        {
          "output_type": "stream",
          "name": "stdout",
          "text": [
            "inputs:\n",
            "torch.Size([4, 8])\n",
            "tensor([[59, 52, 49, 47, 52, 42,  1, 40],\n",
            "        [53, 54, 43, 44, 59, 50,  1, 50],\n",
            "        [27, 24, 33, 25, 26, 21, 13, 10],\n",
            "        [47, 41, 43,  1, 53, 60, 43, 56]])\n",
            "targets:\n",
            "torch.Size([4, 8])\n",
            "tensor([[52, 49, 47, 52, 42,  1, 40, 56],\n",
            "        [54, 43, 44, 59, 50,  1, 50, 39],\n",
            "        [24, 33, 25, 26, 21, 13, 10,  0],\n",
            "        [41, 43,  1, 53, 60, 43, 56, 58]])\n",
            "=====\n",
            "when input is [59] the target is 52\n",
            "when input is [59, 52] the target is 49\n",
            "when input is [59, 52, 49] the target is 47\n",
            "when input is [59, 52, 49, 47] the target is 52\n",
            "when input is [59, 52, 49, 47, 52] the target is 42\n",
            "when input is [59, 52, 49, 47, 52, 42] the target is 1\n",
            "when input is [59, 52, 49, 47, 52, 42, 1] the target is 40\n",
            "when input is [59, 52, 49, 47, 52, 42, 1, 40] the target is 56\n",
            "when input is [53] the target is 54\n",
            "when input is [53, 54] the target is 43\n",
            "when input is [53, 54, 43] the target is 44\n",
            "when input is [53, 54, 43, 44] the target is 59\n",
            "when input is [53, 54, 43, 44, 59] the target is 50\n",
            "when input is [53, 54, 43, 44, 59, 50] the target is 1\n",
            "when input is [53, 54, 43, 44, 59, 50, 1] the target is 50\n",
            "when input is [53, 54, 43, 44, 59, 50, 1, 50] the target is 39\n",
            "when input is [27] the target is 24\n",
            "when input is [27, 24] the target is 33\n",
            "when input is [27, 24, 33] the target is 25\n",
            "when input is [27, 24, 33, 25] the target is 26\n",
            "when input is [27, 24, 33, 25, 26] the target is 21\n",
            "when input is [27, 24, 33, 25, 26, 21] the target is 13\n",
            "when input is [27, 24, 33, 25, 26, 21, 13] the target is 10\n",
            "when input is [27, 24, 33, 25, 26, 21, 13, 10] the target is 0\n",
            "when input is [47] the target is 41\n",
            "when input is [47, 41] the target is 43\n",
            "when input is [47, 41, 43] the target is 1\n",
            "when input is [47, 41, 43, 1] the target is 53\n",
            "when input is [47, 41, 43, 1, 53] the target is 60\n",
            "when input is [47, 41, 43, 1, 53, 60] the target is 43\n",
            "when input is [47, 41, 43, 1, 53, 60, 43] the target is 56\n",
            "when input is [47, 41, 43, 1, 53, 60, 43, 56] the target is 58\n"
          ]
        }
      ]
    },
    {
      "cell_type": "code",
      "source": [
        "import torch\n",
        "import torch.nn as nn\n",
        "from torch.nn import functional as F\n",
        "\n",
        "n_embd = 32\n",
        "torch.manual_seed(1337)\n",
        "class BigramLanguageModel(nn.Module):\n",
        "  def __init__(self,vocab_size):\n",
        "    super().__init__()\n",
        "    self.token_embedding_table = nn.Embedding(vocab_size,n_embd)\n",
        "    self.position_embedding_table = nn.Embedding(block_size,n_embd)\n",
        "    self.lm_head = nn.Linear(n_embd,vocab_size)\n",
        "\n",
        "  def forward(self,idx,targets=None):\n",
        "    B,T = idx.shape\n",
        "    tok_embd = self.token_embedding_table(idx) #B,T,C\n",
        "    #We use a position embedding table to inject position information into the model\n",
        "    #in which order does the word error\n",
        "    #tok_embd only represent each word or token in n-d space without any order\n",
        "    #pos_embd is helpful in enforcing order information\n",
        "    pos_embd = self.position_embedding_table(torch.arange(T)) #T,C\n",
        "    # print(pos_embd.shape,tok_embd.shape)\n",
        "    x = tok_embd + pos_embd #B,T,C\n",
        "    logits = self.lm_head(x) #B,T,vocab_size\n",
        "\n",
        "    if targets is None:\n",
        "      loss = None\n",
        "    else:\n",
        "\n",
        "      B,T,C = logits.shape\n",
        "      logits = logits.view(B*T,C)\n",
        "      targets = targets.view(B*T)\n",
        "\n",
        "      loss = F.cross_entropy(logits,targets)\n",
        "\n",
        "    return logits,loss\n",
        "\n",
        "  def generate(self,idx,max_new_tokens):\n",
        "    for _ in range(max_new_tokens):\n",
        "      logits,loss = self(idx)\n",
        "      # Only keep the logits for the last token in the sequence\n",
        "      # Shape goes from [batch_size, seq_len, vocab_size] → [batch_size, vocab_size]\n",
        "    # This is because we only care about predicting the next token in the sequence\n",
        "      logits = logits[:,-1,:]\n",
        "      probs = F.softmax(logits,dim=-1)\n",
        "      idx_next = torch.multinomial(probs,num_samples=1)\n",
        "      idx = torch.cat((idx,idx_next),dim=1)\n",
        "\n",
        "    return idx\n",
        "\n",
        "m = BigramLanguageModel(vocab_size)\n",
        "logits,loss = m(xb,yb) # 4 batches each batch have block_size=8 each having prob=65\n",
        "\n",
        "\n",
        "print(logits.shape)\n",
        "print(loss)\n",
        "# print(decode(m.generate(torch.zeros((1,1),dtype=torch.long),max_new_tokens=100)[0].tolist()))\n",
        "# print(out)\n"
      ],
      "metadata": {
        "id": "AP1zOpB6X5Ds",
        "colab": {
          "base_uri": "https://localhost:8080/"
        },
        "outputId": "9d27d10f-49e2-4612-a733-6b5ddec18d18"
      },
      "execution_count": 28,
      "outputs": [
        {
          "output_type": "stream",
          "name": "stdout",
          "text": [
            "torch.Size([256, 65])\n",
            "tensor(4.4529, grad_fn=<NllLossBackward0>)\n"
          ]
        }
      ]
    },
    {
      "cell_type": "code",
      "source": [
        "optimizer = torch.optim.AdamW(m.parameters(),lr=1e-3)"
      ],
      "metadata": {
        "id": "bllkZun-pG01"
      },
      "execution_count": 14,
      "outputs": []
    },
    {
      "cell_type": "code",
      "source": [
        "batch_size = 32\n",
        "for steps in range(10000):\n",
        "\n",
        "  if steps % 1000 == 0:\n",
        "    losses = estimate_loss()\n",
        "    print(f\"step {steps}: train loss {losses['train']:.4f}, val loss {losses['val']:.4f}\")\n",
        "\n",
        "  xb,yb = get_batch('train')\n",
        "  logits,loss = m(xb,yb)\n",
        "  optimizer.zero_grad(set_to_none=True)\n",
        "  loss.backward()\n",
        "  optimizer.step()\n",
        "\n",
        "print(loss.item())"
      ],
      "metadata": {
        "colab": {
          "base_uri": "https://localhost:8080/"
        },
        "id": "1iIaNX2u3gBj",
        "outputId": "0dec4c75-c57c-4d08-a486-885b092e6e30"
      },
      "execution_count": 15,
      "outputs": [
        {
          "output_type": "stream",
          "name": "stdout",
          "text": [
            "step 0: train loss 4.3963, val loss 4.3822\n",
            "step 1000: train loss 2.5858, val loss 2.5586\n",
            "step 2000: train loss 2.4885, val loss 2.5109\n",
            "step 3000: train loss 2.4941, val loss 2.4312\n",
            "step 4000: train loss 2.4657, val loss 2.4974\n",
            "step 5000: train loss 2.4884, val loss 2.4611\n",
            "step 6000: train loss 2.4562, val loss 2.4761\n",
            "step 7000: train loss 2.4398, val loss 2.4400\n",
            "step 8000: train loss 2.4606, val loss 2.4944\n",
            "step 9000: train loss 2.4350, val loss 2.4823\n",
            "2.42657732963562\n"
          ]
        }
      ]
    },
    {
      "cell_type": "code",
      "source": [
        "print(decode(m.generate(torch.zeros((1,1),dtype=torch.long),max_new_tokens=500)[0].tolist()))"
      ],
      "metadata": {
        "colab": {
          "base_uri": "https://localhost:8080/"
        },
        "id": "irk85krN3rLk",
        "outputId": "c5d4e64a-8d2d-49c0-c478-47fa664193f2"
      },
      "execution_count": 16,
      "outputs": [
        {
          "output_type": "stream",
          "name": "stdout",
          "text": [
            "\n",
            "Aye thim ne hise w, l pouthive! y:\n",
            "Tour hastheaidilf, ary han, k man, w t t I m.\n",
            "Ay y thind ilak, ther.\n",
            "Gimar iowe; Bis ginere\n",
            "NGoulumes the hertthensnsathor wed t\n",
            "Sit winkite thitonshep h\n",
            "\n",
            "Wo d INVERA I pa ite ho theres wo rors\n",
            "MII oo to, st me intharis at ilpll o ine bl bandeno\n",
            "MANolade aty gie; hakhinf me e mpesbeky It aimpromemurdou wht, t elly Tothas t kef owoo awis me a they coure henou ore\n",
            "we at ing, hitongurrr,\n",
            "\n",
            "Ane, areror rrtisar; hal ongerd, hatliortu hore tour me I tt he kn me tha x \n"
          ]
        }
      ]
    },
    {
      "cell_type": "markdown",
      "source": [
        "Mathematical trick in self-attention.\n",
        "\n",
        "for every t, we need to calculate the mean upto t.\n",
        "{because what we need is that every token t interacts with only its previous context tokens and not the future}"
      ],
      "metadata": {
        "id": "x-YdPhto-pGG"
      }
    },
    {
      "cell_type": "code",
      "source": [
        "torch.manual_seed(1337)\n",
        "B,T,C = 4,8,2 #batch,time,channels\n",
        "x = torch.randn(B,T,C)\n",
        "x.shape"
      ],
      "metadata": {
        "colab": {
          "base_uri": "https://localhost:8080/"
        },
        "id": "xRf2LBXIZjB_",
        "outputId": "98ad15e4-9bb0-4053-adf1-192a6333d00e"
      },
      "execution_count": 30,
      "outputs": [
        {
          "output_type": "execute_result",
          "data": {
            "text/plain": [
              "torch.Size([4, 8, 2])"
            ]
          },
          "metadata": {},
          "execution_count": 30
        }
      ]
    },
    {
      "cell_type": "code",
      "source": [
        "#we want x[b,t] = mean(i<=t)\n",
        "#version 1\n",
        "B,T,C = 4,8,2\n",
        "xbow = torch.zeros((B,T,C))\n",
        "for b in range(B):\n",
        "  for t in range(T):\n",
        "    xprev = x[b,:t+1]\n",
        "    xbow[b,t] = torch.mean(xprev,0)\n",
        "\n",
        "xbow[1]"
      ],
      "metadata": {
        "id": "hJlRuH_B3w9_",
        "colab": {
          "base_uri": "https://localhost:8080/"
        },
        "outputId": "0dc55ea9-fa9d-4de1-d45e-409429020e00"
      },
      "execution_count": 18,
      "outputs": [
        {
          "output_type": "execute_result",
          "data": {
            "text/plain": [
              "tensor([[ 1.3488, -0.1396],\n",
              "        [ 0.8173,  0.4127],\n",
              "        [-0.1342,  0.4395],\n",
              "        [ 0.2711,  0.4774],\n",
              "        [ 0.2421,  0.0694],\n",
              "        [ 0.0084,  0.0020],\n",
              "        [ 0.0712, -0.1128],\n",
              "        [ 0.2527,  0.2149]])"
            ]
          },
          "metadata": {},
          "execution_count": 18
        }
      ]
    },
    {
      "cell_type": "code",
      "source": [
        "#version 2\n",
        "wei = torch.tril(torch.ones(T,T)) #size is (T,T) for each token mean stored in each row till the token t\n",
        "wei = wei/wei.sum(1,keepdim=True)\n",
        "xbow2 = wei @ x\n",
        "torch.allclose(xbow,xbow2,atol=1e-6, rtol=1e-4)\n",
        "# xbow2[1]"
      ],
      "metadata": {
        "id": "TfyjkTIa_ZGM",
        "colab": {
          "base_uri": "https://localhost:8080/"
        },
        "outputId": "eaacce31-98c4-4dd5-ba25-fabf8c227a1c"
      },
      "execution_count": 19,
      "outputs": [
        {
          "output_type": "execute_result",
          "data": {
            "text/plain": [
              "True"
            ]
          },
          "metadata": {},
          "execution_count": 19
        }
      ]
    },
    {
      "cell_type": "code",
      "source": [
        "#version 3\n",
        "tril = torch.tril(torch.ones(T,T))\n",
        "wei = torch.zeros((T,T))\n",
        "wei = wei.masked_fill(tril==0,float('-inf'))\n",
        "wei = F.softmax(wei,dim=-1)\n",
        "xbow3 = wei @ x\n",
        "torch.allclose(xbow,xbow3,atol=1e-6, rtol=1e-4)"
      ],
      "metadata": {
        "id": "FpmdHN6taDLQ",
        "colab": {
          "base_uri": "https://localhost:8080/"
        },
        "outputId": "52b61ae6-fc7f-408a-d78a-3e4a0554a1ee"
      },
      "execution_count": 20,
      "outputs": [
        {
          "output_type": "execute_result",
          "data": {
            "text/plain": [
              "True"
            ]
          },
          "metadata": {},
          "execution_count": 20
        }
      ]
    },
    {
      "cell_type": "code",
      "source": [
        "#version 4 self-attention\n",
        "torch.manual_seed(1337)\n",
        "B,T,C = 4,8,32 #batch,time,channels\n",
        "x = torch.randn(B,T,C)\n",
        "\n",
        "#head self-attention\n",
        "head_size = 16\n",
        "key = nn.Linear(C,head_size,bias=False)\n",
        "query = nn.Linear(C,head_size,bias=False)\n",
        "value = nn.Linear(C,head_size,bias=False)\n",
        "k = key(x)\n",
        "q = query(x)\n",
        "wei = q @ k.transpose(-2,-1)\n",
        "\n",
        "tril = torch.tril(torch.ones(T,T))\n",
        "# wei = torch.zeros((T,T))\n",
        "wei = wei.masked_fill(tril==0,float('-inf'))\n",
        "wei = F.softmax(wei,dim=-1)\n",
        "out = wei @ x\n",
        "\n",
        "out.shape\n",
        "# torch.allclose(xbow,xbow3,atol=1e-6, rtol=1e-4)"
      ],
      "metadata": {
        "id": "No7xA7dhj1gK",
        "colab": {
          "base_uri": "https://localhost:8080/"
        },
        "outputId": "23690eb2-baf2-4df3-dbc1-f38b5870ab1e"
      },
      "execution_count": 33,
      "outputs": [
        {
          "output_type": "execute_result",
          "data": {
            "text/plain": [
              "torch.Size([4, 8, 32])"
            ]
          },
          "metadata": {},
          "execution_count": 33
        }
      ]
    },
    {
      "cell_type": "code",
      "source": [
        "wei[0]"
      ],
      "metadata": {
        "colab": {
          "base_uri": "https://localhost:8080/"
        },
        "id": "EEw75SHeCShY",
        "outputId": "e493bd61-a561-4048-fa88-bb0860973423"
      },
      "execution_count": 35,
      "outputs": [
        {
          "output_type": "execute_result",
          "data": {
            "text/plain": [
              "tensor([[1.0000, 0.0000, 0.0000, 0.0000, 0.0000, 0.0000, 0.0000, 0.0000],\n",
              "        [0.2860, 0.7140, 0.0000, 0.0000, 0.0000, 0.0000, 0.0000, 0.0000],\n",
              "        [0.3711, 0.3779, 0.2510, 0.0000, 0.0000, 0.0000, 0.0000, 0.0000],\n",
              "        [0.2380, 0.2855, 0.1415, 0.3349, 0.0000, 0.0000, 0.0000, 0.0000],\n",
              "        [0.0925, 0.0420, 0.0443, 0.7808, 0.0404, 0.0000, 0.0000, 0.0000],\n",
              "        [0.0075, 0.0170, 0.0415, 0.0086, 0.3112, 0.6143, 0.0000, 0.0000],\n",
              "        [0.0129, 0.0040, 0.0211, 0.8583, 0.0028, 0.0863, 0.0145, 0.0000],\n",
              "        [0.0177, 0.0466, 0.0415, 0.6180, 0.0218, 0.1187, 0.1196, 0.0161]],\n",
              "       grad_fn=<SelectBackward0>)"
            ]
          },
          "metadata": {},
          "execution_count": 35
        }
      ]
    },
    {
      "cell_type": "code",
      "source": [],
      "metadata": {
        "id": "3YZu4XCcCbkE"
      },
      "execution_count": null,
      "outputs": []
    }
  ]
}